{
  "nbformat": 4,
  "nbformat_minor": 0,
  "metadata": {
    "colab": {
      "provenance": []
    },
    "kernelspec": {
      "name": "python3",
      "display_name": "Python 3"
    },
    "language_info": {
      "name": "python"
    }
  },
  "cells": [
    {
      "cell_type": "code",
      "execution_count": null,
      "metadata": {
        "id": "pWRS4155ThUG"
      },
      "outputs": [],
      "source": [
        "# Интересные задачи"
      ]
    },
    {
      "cell_type": "markdown",
      "source": [
        "Напишите программу, которая формирует карточку для личного дела ребёнка. Карточка создаётся на основе имени ребёнка и трёхзначного номера шкафчика, который содержит:\n",
        "\n",
        "Первую цифру — номер группы. Вторую цифру — номер кроватки. Третью цифру — порядковый номер ребёнка в списке группы.\n",
        "Формат ввода\n",
        "\n",
        "В первой строке записано имя ребенка.\n",
        "Во второй строке записан номер шкафчика.\n",
        "\n",
        "Формат вывода\n",
        "\n",
        "Карточка в виде:\n",
        "\n",
        "    Группа №<номер группы>.  \n",
        "    <номер ребёнка в списке>. <имя ребенка>.  \n",
        "    Шкафчик: <номер шкафчика>.  \n",
        "    Кроватка: <номер кроватки>."
      ],
      "metadata": {
        "id": "sbsdfQg9QXXx"
      }
    },
    {
      "cell_type": "code",
      "source": [
        "name = input()\n",
        "cabinet_id = int(input())\n",
        "group_id = cabinet_id // 100\n",
        "bed_id = cabinet_id // 10 % 10\n",
        "child_id = cabinet_id % 10\n",
        "\n",
        "print(\n",
        "    'Группа №{}.\\n{}. {}.\\nШкафчик: {}.\\nКроватка: {}.'.format(\n",
        "        group_id,\n",
        "        child_id,\n",
        "        name,\n",
        "        cabinet_id,\n",
        "        bed_id\n",
        "    )\n",
        ")"
      ],
      "metadata": {
        "colab": {
          "base_uri": "https://localhost:8080/"
        },
        "id": "Uc9Y9E5gQP5d",
        "outputId": "0e0f2717-7f46-4b20-b0c0-43d8a4d7d6e3"
      },
      "execution_count": 1,
      "outputs": [
        {
          "output_type": "stream",
          "name": "stdout",
          "text": [
            "Ванечка\n",
            "832\n",
            "Группа №8.\n",
            "2. Ванечка.\n",
            "Шкафчик: 832.\n",
            "Кроватка: 3.\n"
          ]
        }
      ]
    },
    {
      "cell_type": "markdown",
      "source": [
        "Напишите программу для робота-няни, которая из числа вида abcd составляет число badc.\n",
        "Формат ввода\n",
        "\n",
        "Одно четырёхзначное число.\n",
        "Формат вывода\n",
        "\n",
        "Одно четырёхзначное число — результат перестановки."
      ],
      "metadata": {
        "id": "G-n_UvMeQx7W"
      }
    },
    {
      "cell_type": "code",
      "source": [
        "num = int(input())\n",
        "\n",
        "a = str(num // 1000)\n",
        "b = str(num // 100 % 10)\n",
        "c = str(num // 10 % 10)\n",
        "d = str(num % 10)\n",
        "\n",
        "badc = b + a + d + c\n",
        "print(int(badc))"
      ],
      "metadata": {
        "colab": {
          "base_uri": "https://localhost:8080/"
        },
        "id": "hsKQTrf9QzT0",
        "outputId": "389317c0-e1ed-4bb2-dfe2-2b2fac9fcaca"
      },
      "execution_count": 2,
      "outputs": [
        {
          "output_type": "stream",
          "name": "stdout",
          "text": [
            "1234\n",
            "2143\n"
          ]
        }
      ]
    },
    {
      "cell_type": "markdown",
      "source": [
        "Напишите программу, которая складывает два числа поразрядно без учёта переносов. Каждая пара цифр суммируется независимо, и результат записывается в соответствующий разряд.\n",
        "Формат ввода\n",
        "\n",
        "В первой строке записано натуральное число меньше 1000. Во второй строке записано натуральное число меньше 1000.\n",
        "Формат вывода\n",
        "\n",
        "Одно число — результат сложения введённых чисел без учёта переносов."
      ],
      "metadata": {
        "id": "suEZG9O2Q-Cw"
      }
    },
    {
      "cell_type": "code",
      "source": [
        "num_1 = int(input())\n",
        "num_2 = int(input())\n",
        "\n",
        "first = str(((num_1 // 100) + (num_2 // 100)) % 10)\n",
        "second = str(((num_1 // 10 % 10) + (num_2 // 10 % 10)) % 10)\n",
        "third = str(((num_1 % 10) + (num_2 % 10)) % 10)\n",
        "\n",
        "print(int(first + second + third))"
      ],
      "metadata": {
        "colab": {
          "base_uri": "https://localhost:8080/"
        },
        "id": "2c9q2mVXQ-2m",
        "outputId": "6688b588-3305-410f-9ced-869f937ef2c7"
      },
      "execution_count": 3,
      "outputs": [
        {
          "output_type": "stream",
          "name": "stdout",
          "text": [
            "123\n",
            "99\n",
            "112\n"
          ]
        }
      ]
    },
    {
      "cell_type": "markdown",
      "source": [
        "Сегодня в N часов M минут владелец магазина заказал доставку нового товара.\n",
        "Оператор сообщил, что продукты доставят через T минут.\n",
        "Сколько будет времени на электронных часах, когда привезут долгожданные продукты?\n",
        "Формат ввода\n",
        "\n",
        "В первой строке записано натуральное число N.\n",
        "Во второй строке записано натуральное число M.\n",
        "В третьей строке записано натуральное число T.\n",
        "Формат вывода\n",
        "\n",
        "Одна строка, представляющая циферблат электронных часов."
      ],
      "metadata": {
        "id": "bKAfaP-IRDFL"
      }
    },
    {
      "cell_type": "code",
      "source": [
        "current_hours = int(input())\n",
        "current_minutes = int(input())\n",
        "minutes_to_delivery = int(input())\n",
        "\n",
        "total_mins = current_hours * 60 + current_minutes + minutes_to_delivery\n",
        "\n",
        "delivery_hours = total_mins // 60 % 24\n",
        "delivery_mins = total_mins % 60\n",
        "\n",
        "print(f'{delivery_hours:0>2}:{delivery_mins:0>2}')"
      ],
      "metadata": {
        "colab": {
          "base_uri": "https://localhost:8080/"
        },
        "id": "DylrbqsQRXy9",
        "outputId": "dc23793d-b1cc-4444-ff18-bbc2b7d37b8e"
      },
      "execution_count": 4,
      "outputs": [
        {
          "output_type": "stream",
          "name": "stdout",
          "text": [
            "10\n",
            "15\n",
            "2752\n",
            "08:07\n"
          ]
        }
      ]
    },
    {
      "cell_type": "markdown",
      "source": [
        "Напишите программу, которая поможет магазину посчитать общую сумму выручки, учитывая, что кассовый аппарат выдаёт сумму последней покупки в двоичной системе счисления.\n",
        "Формат ввода\n",
        "\n",
        "В первой строке записано десятичное число — общая сумма купленных в магазине товаров на данный момент.\n",
        "Во второй строке указано двоичное число — сумма за последнюю покупку.\n",
        "Формат вывода\n",
        "\n",
        "Одно десятичное число — сумма прибыли за день с учётом последней покупки."
      ],
      "metadata": {
        "id": "o6RBxcTiRjHn"
      }
    },
    {
      "cell_type": "code",
      "source": [
        "base_10_num = int(input())\n",
        "base_2_num = input()\n",
        "\n",
        "last_purchase = int(base_2_num, 2)\n",
        "total_receipt = base_10_num + last_purchase\n",
        "\n",
        "print(total_receipt)"
      ],
      "metadata": {
        "colab": {
          "base_uri": "https://localhost:8080/"
        },
        "id": "rPqhYkUVRj_K",
        "outputId": "595c4023-2237-4a0c-b56d-53b1d539fc26"
      },
      "execution_count": 5,
      "outputs": [
        {
          "output_type": "stream",
          "name": "stdout",
          "text": [
            "123\n",
            "1101\n",
            "136\n"
          ]
        }
      ]
    },
    {
      "cell_type": "markdown",
      "source": [
        "А пока как насчет того, чтобы научиться конвертировать числа из двоичной в десятичную систему?\n",
        "\n",
        "Продолжаем работать с задачей. Кстати, несмотря на ошибку аппарата, сдачу тоже нужно отдавать.\n",
        "Формат ввода\n",
        "\n",
        "Цена покупки — двоичное число, выданное кассовым аппаратом.\n",
        "Номинал купюры пользователя — десятичное число (≥100).\n",
        "Формат вывода\n",
        "\n",
        "Одно десятичное число — сдача, которую требуется отдать пользователю."
      ],
      "metadata": {
        "id": "kREX0gTaRsBt"
      }
    },
    {
      "cell_type": "code",
      "source": [
        "num_1 = input()\n",
        "num_2 = int(input())\n",
        "\n",
        "num_1_to_base_10 = int(num_1, 2)\n",
        "change = num_2 - num_1_to_base_10\n",
        "\n",
        "print(change)"
      ],
      "metadata": {
        "colab": {
          "base_uri": "https://localhost:8080/"
        },
        "id": "dvRTlpdiRuR3",
        "outputId": "3faf37fa-3d3a-4739-9b4f-ea6db9b0c2c3"
      },
      "execution_count": 6,
      "outputs": [
        {
          "output_type": "stream",
          "name": "stdout",
          "text": [
            "1001001\n",
            "100\n",
            "27\n"
          ]
        }
      ]
    },
    {
      "cell_type": "markdown",
      "source": [
        "Напишите программу, которая выводит красиво оформленный чек. Все строки в чеке должны быть длиной ровно 35 символов, текст выровнен в соответствии с примером.\n",
        "Формат ввода\n",
        "\n",
        "    Название товара (строка);\n",
        "    цена товара (натуральное число);\n",
        "    вес товара (натуральное число);\n",
        "    количество денег у пользователя (натуральное число).\n",
        "\n",
        "Формат вывода\n",
        "\n",
        "Красивый чек в формате:\n",
        "\n",
        "    ================Чек================\n",
        "    Товар:                    <продукт>\n",
        "    Цена:     <число>кг * <число>руб/кг\n",
        "    Итого:                   <число>руб\n",
        "    Внесено:                 <число>руб\n",
        "    Сдача:                   <число>руб\n",
        "    ==================================="
      ],
      "metadata": {
        "id": "1kiq2I8OR7Ox"
      }
    },
    {
      "cell_type": "code",
      "source": [
        "product_name = input()\n",
        "product_price = int(input())\n",
        "product_weight = int(input())\n",
        "user_money = int(input())\n",
        "\n",
        "design_1 = '='\n",
        "design_2 = ' '\n",
        "sec_line = (30 - len(f\"{product_weight}кг * {product_price}руб/кг\"))\n",
        "third_line = (29 - len(f\"{product_weight * product_price}руб\"))\n",
        "change = user_money - (product_weight * product_price)\n",
        "fourth_line = (29 - len(f\"{change}руб\"))\n",
        "\n",
        "\n",
        "print(\n",
        "    f'{design_1 * 16}Чек{design_1 * 16}\\n'\n",
        "    f'Товар:{design_2 * (29 - len(product_name))}{product_name}\\n'\n",
        "    f'Цена:{design_2 * sec_line}{product_weight}кг * {product_price}руб/кг\\n'\n",
        "    f'Итого:{design_2 * third_line}{product_weight * product_price}руб\\n'\n",
        "    f'Внесено:{design_2 * (27 - len(f\"{user_money}руб\"))}{user_money}руб\\n'\n",
        "    f'Сдача:{design_2 * fourth_line}{change}руб\\n'\n",
        "    f'{design_1 * 35}'\n",
        ")"
      ],
      "metadata": {
        "colab": {
          "base_uri": "https://localhost:8080/"
        },
        "id": "KA5UKsfWR1C6",
        "outputId": "c18f6d2d-5c21-459f-d964-f95121fb9edd"
      },
      "execution_count": 7,
      "outputs": [
        {
          "output_type": "stream",
          "name": "stdout",
          "text": [
            "черешня\n",
            "2\n",
            "3\n",
            "10\n",
            "================Чек================\n",
            "Товар:                      черешня\n",
            "Цена:                 3кг * 2руб/кг\n",
            "Итого:                         6руб\n",
            "Внесено:                      10руб\n",
            "Сдача:                         4руб\n",
            "===================================\n"
          ]
        }
      ]
    },
    {
      "cell_type": "markdown",
      "source": [
        "Задача про хозяина магазина, который любит автоматизацию:\n",
        "\n",
        "\n",
        "> Пару дней назад я купил две партии котлет и по случайности высыпал их на один прилавок. Общий вес котлет составил N килограмм, а ценник — M рублей за килограмм.\n",
        "Сегодня я обнаружил, что накладные на эти виды котлет потерялись, но я помню, что первый вид котлет стоил K1​ рублей за килограмм, а второй — K2​. Помогите мне вспомнить вес каждой партии котлет, чтобы поставить их на учёт.\n",
        "\n",
        "\n",
        "Формат ввода\n",
        "\n",
        "    В первой строке записано натуральное число N\n",
        "    Во второй строке — натуральное число M\n",
        "    В третьей строке — натуральное число K1​\n",
        "    В четвёртой строке — натуральное число K2​\n",
        "    Причём доподлинно известно, что второй вид котлет стоит меньше, чем первый.\n",
        "Формат вывода\n",
        "\n",
        "Два натуральных числа, записанных через пробел — вес обеих партий котлет."
      ],
      "metadata": {
        "id": "N7sLRr4OSXTz"
      }
    },
    {
      "cell_type": "code",
      "source": [
        "kilos = int(input())\n",
        "price = int(input())\n",
        "first_specie_price = int(input())\n",
        "second_specie_price = int(input())\n",
        "\n",
        "total_price = price * kilos\n",
        "first_step = (total_price - second_specie_price * kilos)\n",
        "second_step = first_specie_price - second_specie_price\n",
        "first_weight = first_step / second_step\n",
        "second_weight = kilos - first_weight\n",
        "\n",
        "print(int(first_weight), int(second_weight), sep=' ')"
      ],
      "metadata": {
        "colab": {
          "base_uri": "https://localhost:8080/"
        },
        "id": "SPR3gG74ToMh",
        "outputId": "576b8938-f58e-4bdd-e321-3f4f2a130fe5"
      },
      "execution_count": 8,
      "outputs": [
        {
          "output_type": "stream",
          "name": "stdout",
          "text": [
            "32\n",
            "285\n",
            "300\n",
            "240\n",
            "24 8\n"
          ]
        }
      ]
    }
  ]
}