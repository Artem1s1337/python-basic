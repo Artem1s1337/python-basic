{
  "nbformat": 4,
  "nbformat_minor": 0,
  "metadata": {
    "colab": {
      "provenance": []
    },
    "kernelspec": {
      "name": "python3",
      "display_name": "Python 3"
    },
    "language_info": {
      "name": "python"
    }
  },
  "cells": [
    {
      "cell_type": "code",
      "execution_count": null,
      "metadata": {
        "colab": {
          "base_uri": "https://localhost:8080/"
        },
        "id": "7Q_bDAVRk0zD",
        "outputId": "d39a3777-2dec-4e98-aec5-2988d8b71bbd"
      },
      "outputs": [
        {
          "output_type": "stream",
          "name": "stdout",
          "text": [
            "a=5\n",
            "b=4\n",
            "9\n",
            "1\n",
            "20\n",
            "1.25\n",
            "1\n",
            "1\n",
            "625\n",
            "False\n",
            "False\n",
            "True\n",
            "True\n",
            "True\n",
            "False\n"
          ]
        }
      ],
      "source": [
        "a = int(input(\"a=\"))\n",
        "b = int(input(\"b=\"))\n",
        "\n",
        "print(a + b)\n",
        "print(a - b)\n",
        "print(a * b)\n",
        "print(a / b)\n",
        "print(a // b)\n",
        "print(a % b)\n",
        "print(a ** b)\n",
        "\n",
        "print(a < b)\n",
        "print(a <= b)\n",
        "print(a > b)\n",
        "print(a >= b)\n",
        "print(a != b)\n",
        "print(a == b)"
      ]
    },
    {
      "cell_type": "code",
      "source": [
        "x = int(input())\n",
        "y = int(input())\n",
        "z = int(input())\n",
        "\n",
        "res = (((x ** 5 + 7) / (abs(-6) * y)) ** (1/3) / 7 - z % y)\n",
        "\n",
        "print(round(res, 3))"
      ],
      "metadata": {
        "colab": {
          "base_uri": "https://localhost:8080/"
        },
        "id": "re0euedWou-Y",
        "outputId": "6751ad52-030b-48a8-9d62-89d04b639496"
      },
      "execution_count": null,
      "outputs": [
        {
          "output_type": "stream",
          "name": "stdout",
          "text": [
            "0\n",
            "1\n",
            "2\n",
            "0.15\n"
          ]
        }
      ]
    },
    {
      "cell_type": "code",
      "source": [
        "# Сопротивление первого проводника\n",
        "r1 = float(input())\n",
        "# Сопротивление второго проводника\n",
        "r2 = float(input())\n",
        "\n",
        "# Общее сопротивление\n",
        "r = r1 + r2\n",
        "\n",
        "print(r)"
      ],
      "metadata": {
        "colab": {
          "base_uri": "https://localhost:8080/"
        },
        "id": "P_zD_TsuqR2q",
        "outputId": "783b8cad-5903-478e-d00a-258be7e316e5"
      },
      "execution_count": null,
      "outputs": [
        {
          "output_type": "stream",
          "name": "stdout",
          "text": [
            "12.2\n",
            "16.1\n",
            "28.3\n"
          ]
        }
      ]
    },
    {
      "cell_type": "code",
      "source": [
        "# Двузначное число\n",
        "num2 = int(input())\n",
        "# Трехзначное число\n",
        "num3 = int(input())\n",
        "\n",
        "# 1-я цифра числа 'num2'\n",
        "num2_1 = num2 // 10\n",
        "# 2-я цифра числа 'num2'\n",
        "num2_2 = num2 % 10\n",
        "# Сумма цифр числа 'num2'\n",
        "num2_s = num2_1 + num2_2\n",
        "# Произведение цифр числа 'num2'\n",
        "num2_p = num2_1 * num2_2\n",
        "\n",
        "# 1-я цифра числа 'num3'\n",
        "num3_1 = num3 // 100\n",
        "# 2-я цифра числа 'num3'\n",
        "num3_2 = num3 // 10 % 10\n",
        "# 3-я цифра числа 'num3'\n",
        "num3_3 = num3 % 100 % 10\n",
        "\n",
        "# Сумма цифр числа 'num3'\n",
        "num3_s = num3_1 + num3_2 + num3_3\n",
        "# Произведение цифр числа 'num3'\n",
        "num3_p = num3_1 * num3_2 * num3_3\n",
        "\n",
        "print(\"Двузначное число: {}\".format(num2))\n",
        "print(\"Трёхзначное число: {}\".format(num3))\n",
        "print(\"Сумма и произведение цифр двузначного числа: {} {}\".format(num2_s, num2_p))\n",
        "print(\"Сумма и произведение цифр трехзначного числа: {} {}\".format(num3_s, num3_p))"
      ],
      "metadata": {
        "colab": {
          "base_uri": "https://localhost:8080/"
        },
        "id": "JJek98TqrnDu",
        "outputId": "b5af6b4b-4a94-4b8f-e276-8e7289cf5663"
      },
      "execution_count": null,
      "outputs": [
        {
          "output_type": "stream",
          "name": "stdout",
          "text": [
            "45\n",
            "456\n",
            "Двузначное число: 45\n",
            "Трёхзначное число: 456\n",
            "Сумма и произведение цифр двузначного числа: 9 20\n",
            "Сумма и произведение цифр трехзначного числа: 15 120\n"
          ]
        }
      ]
    },
    {
      "cell_type": "code",
      "source": [
        "m = int(input())\n",
        "\n",
        "# Количество часов, прошедших с начала суток\n",
        "h = m // 60\n",
        "# Количество минут, прошедших с момента начала последнего часа\n",
        "m2 = m % 60\n",
        "\n",
        "print(\"Количество часов, прошедших с начала суток:\", h)\n",
        "print(\"Количество минут, прошедших с момента начала последнего часа:\", m2)"
      ],
      "metadata": {
        "colab": {
          "base_uri": "https://localhost:8080/"
        },
        "id": "H56cvCWW7nRl",
        "outputId": "5851a10e-b6a1-405a-8afe-be6467e5dbfa"
      },
      "execution_count": null,
      "outputs": [
        {
          "output_type": "stream",
          "name": "stdout",
          "text": [
            "123\n",
            "Количество часов, прошедших с начала суток: 2\n",
            "Количество минут, прошедших с момента начала последнего часа: 3\n"
          ]
        }
      ]
    },
    {
      "cell_type": "code",
      "source": [
        "a = int(input())\n",
        "b = int(input())\n",
        "m = int(input())\n",
        "n = int(input())\n",
        "\n",
        "x = -b / a\n",
        "\n",
        "is_ok = m < x < n\n",
        "\n",
        "print(\"Попадает:\", is_ok)"
      ],
      "metadata": {
        "colab": {
          "base_uri": "https://localhost:8080/"
        },
        "id": "8cLrl57NCAD-",
        "outputId": "a44377db-52da-49de-880e-948efe6a046e"
      },
      "execution_count": null,
      "outputs": [
        {
          "output_type": "stream",
          "name": "stdout",
          "text": [
            "1\n",
            "2\n",
            "-5\n",
            "5\n",
            "Попадает: True\n"
          ]
        }
      ]
    },
    {
      "cell_type": "code",
      "source": [
        "team = input(\"Введите название команды: \")\n",
        "\n",
        "print(\"{} - чемпион!\".format(team))\n",
        "\n",
        "\n",
        "print(\"{}\".format(\"-\" * len(team)))\n",
        "\n",
        "\n",
        "# Название команды в нижнем регистре\n",
        "\n",
        "team_lowercase = team.lower()\n",
        "\n",
        "print(\"Символов в названии команды: {}\".format(len(team_lowercase)))\n",
        "\n",
        "print(\"Буква \\\"п\\\" есть: {}\".format(\"п\" in team_lowercase))\n",
        "\n",
        "print(\"Количество букв \\\"а\\\": {}\".format(team_lowercase.count('а')))"
      ],
      "metadata": {
        "colab": {
          "base_uri": "https://localhost:8080/"
        },
        "id": "bprzfMoY5RG5",
        "outputId": "284e7f74-a432-4350-96ee-252368521251"
      },
      "execution_count": null,
      "outputs": [
        {
          "output_type": "stream",
          "name": "stdout",
          "text": [
            "Введите название команды: Спартак\n",
            "Спартак - чемпион!\n",
            "-------\n",
            "Символов в названии команды: 7\n",
            "Буква \"п\" есть: True\n",
            "Количество букв \"а\": 2\n"
          ]
        }
      ]
    },
    {
      "cell_type": "code",
      "source": [
        "# Название государства\n",
        "\n",
        "country = input(\"Введите название государства: \")\n",
        "\n",
        "# Название столицы\n",
        "\n",
        "capital = input(\"Введите название столицы: \")\n",
        "\n",
        "\n",
        "print(\"Государство - {0}, столица - {1}\".format(\n",
        "    country,\n",
        "    capital\n",
        "))"
      ],
      "metadata": {
        "colab": {
          "base_uri": "https://localhost:8080/"
        },
        "id": "hbs5bxkb-F1x",
        "outputId": "ec1e3b03-13d5-4d10-aa11-5e2eb5941e83"
      },
      "execution_count": null,
      "outputs": [
        {
          "output_type": "stream",
          "name": "stdout",
          "text": [
            "Введите название государства: Россия\n",
            "Введите название столицы: Москва\n",
            "Государство - Россия, столица - Москва\n"
          ]
        }
      ]
    },
    {
      "cell_type": "code",
      "source": [
        "word = \"объектно-ориентированный\"\n",
        "\n",
        "\n",
        "w1 = word[:6]  # (слово объект)\n",
        "\n",
        "w2 = word[9:17]  # (слово ориентир)\n",
        "\n",
        "w3 = word[14:17]  # (слово тир)\n",
        "\n",
        "w4 = word[4:15:5]  # (слово кот)\n",
        "\n",
        "w5 = word[10] + word[12:15] + word[19]  # (слово рента)\n",
        "\n",
        "\n",
        "print(w1, w2, w3, w4, w5, sep=\"\\n\")"
      ],
      "metadata": {
        "colab": {
          "base_uri": "https://localhost:8080/"
        },
        "id": "CcsRUaIm-mQk",
        "outputId": "30e9bd58-2eb4-4904-958e-f8610d5c4d83"
      },
      "execution_count": null,
      "outputs": [
        {
          "output_type": "stream",
          "name": "stdout",
          "text": [
            "объект\n",
            "ориентир\n",
            "тир\n",
            "кот\n",
            "рента\n"
          ]
        }
      ]
    },
    {
      "cell_type": "code",
      "source": [
        "import math\n",
        "\n",
        "a = list([])\n",
        "b = list([])\n",
        "\n",
        "a.append(4.5)\n",
        "a.append(3.4)\n",
        "\n",
        "a.extend([8.7, 1.3])\n",
        "\n",
        "b.append(14.5)\n",
        "b.append(3.4)\n",
        "\n",
        "b.extend([8.7, 11.3])\n",
        "\n",
        "a.insert(1, 100)\n",
        "a.insert(3, 100)\n",
        "\n",
        "b.insert(0, 200)\n",
        "b.insert(2, 200)\n",
        "\n",
        "print(\"Исходные списки:\")\n",
        "print(\"1-й:\", a)\n",
        "print(\"2-й:\", b)\n",
        "\n",
        "del a[0]\n",
        "del b[0]\n",
        "\n",
        "a.remove(100)\n",
        "b.remove(200)\n",
        "\n",
        "print(\"\\nПосле удалений:\")\n",
        "print(\"1-й:\", a)\n",
        "print(\"2-й:\", b)\n",
        "\n",
        "sa = set(a)\n",
        "sb = set(b)\n",
        "sa_and_sb = sa.intersection(b)\n",
        "\n",
        "print(\"\\nУникальные элементы:\")\n",
        "print(\"1-й:\", a)\n",
        "print(\"2-й:\", b)\n",
        "print(\"общие:\", sa_and_sb)\n",
        "\n",
        "c = a + b\n",
        "\n",
        "c_asc = sorted(c)\n",
        "c_desc = sorted(c, reverse=True)\n",
        "\n",
        "sr_ar = (sum(c[::2])) / len(c[::2])\n",
        "sr_geom = (math.prod(c[1::2])) ** (1 / len(c[1::2]))\n",
        "\n",
        "c_min = min(c)\n",
        "c_max = max(c)\n",
        "\n",
        "print(\"\\nИтоговые:\")\n",
        "print(\"3-й:\", c)\n",
        "print(\"Сортировка (возр.):\", c_asc)\n",
        "print(\"Сортировка (убыв.):\", c_desc)\n",
        "print(\"Ср. арифм. = {0}, ср. геометр. = {1}\".format(\n",
        "    sr_ar,\n",
        "    sr_geom\n",
        "))\n",
        "print(\"Макс. и мин.: {} {}\".format(c_max, c_min))"
      ],
      "metadata": {
        "colab": {
          "base_uri": "https://localhost:8080/"
        },
        "id": "DwIWEPMj_52X",
        "outputId": "b7e02c47-a28a-46e7-8ece-c1cd77709f42"
      },
      "execution_count": null,
      "outputs": [
        {
          "output_type": "stream",
          "name": "stdout",
          "text": [
            "Исходные списки:\n",
            "1-й: [4.5, 100, 3.4, 100, 8.7, 1.3]\n",
            "2-й: [200, 14.5, 200, 3.4, 8.7, 11.3]\n",
            "\n",
            "После удалений:\n",
            "1-й: [3.4, 100, 8.7, 1.3]\n",
            "2-й: [14.5, 3.4, 8.7, 11.3]\n",
            "\n",
            "Уникальные элементы:\n",
            "1-й: [3.4, 100, 8.7, 1.3]\n",
            "2-й: [14.5, 3.4, 8.7, 11.3]\n",
            "общие: {8.7, 3.4}\n",
            "\n",
            "Итоговые:\n",
            "3-й: [3.4, 100, 8.7, 1.3, 14.5, 3.4, 8.7, 11.3]\n",
            "Сортировка (возр.): [1.3, 3.4, 3.4, 8.7, 8.7, 11.3, 14.5, 100]\n",
            "Сортировка (убыв.): [100, 14.5, 11.3, 8.7, 8.7, 3.4, 3.4, 1.3]\n",
            "Ср. арифм. = 8.825, ср. геометр. = 8.406692812116003\n",
            "Макс. и мин.: 100 1.3\n"
          ]
        }
      ]
    },
    {
      "cell_type": "code",
      "source": [
        "info = dict()\n",
        "\n",
        "info['фио'] = 'Модин Артём Олегович'\n",
        "info['дата_рождения'] = '20.09.2002'\n",
        "info['место_рождения'] = 'Москва'\n",
        "\n",
        "print(info)"
      ],
      "metadata": {
        "colab": {
          "base_uri": "https://localhost:8080/"
        },
        "id": "28t1Pg8HG8Rb",
        "outputId": "4e4aac4d-60a5-47eb-9755-ea22cc3f7875"
      },
      "execution_count": null,
      "outputs": [
        {
          "output_type": "stream",
          "name": "stdout",
          "text": [
            "{'фио': 'Модин Артём Олегович', 'дата_рождения': '20.09.2002', 'место_рождения': 'Москва'}\n"
          ]
        }
      ]
    },
    {
      "cell_type": "code",
      "source": [
        "info['хобби'] = list(['чтение', 'гейминг'])\n",
        "info['хобби'].append('программирование')\n",
        "\n",
        "info['животные'] = tuple(['Мурзик'])\n",
        "info['ЕГЭ'] = dict()\n",
        "\n",
        "info['ЕГЭ']['Русский'] = 98\n",
        "info['ЕГЭ']['Английский'] = 80\n",
        "info['ЕГЭ']['История'] = 77\n",
        "\n",
        "info['ЕГЭ']['Обществознание'] = None\n",
        "del info['ЕГЭ']['Обществознание']\n",
        "\n",
        "info['вузы'] = dict()\n",
        "\n",
        "info['вузы']['РГГУ'] = 270\n",
        "info['вузы']['МГИМО'] = 300\n",
        "info['вузы']['ВШЭ'] = 300\n",
        "\n",
        "print(\"Данные:\")\n",
        "print(info)\n",
        "\n",
        "exams = tuple(info['ЕГЭ'].keys())\n",
        "uni = sorted(exams)\n",
        "print('Предметы:', ', '.join(uni))\n",
        "\n",
        "print('\\nОтветы на вопросы:')\n",
        "\n",
        "name = info['фио'][6:11]\n",
        "starts_with_vowel = name[0].upper() in {'А', 'О', 'У', 'Ы', 'И', 'Е'}\n",
        "print(\"* мое имя начинается на гласную букву:\", starts_with_vowel)\n",
        "\n",
        "month = int(info['дата_рождения'][4])\n",
        "born_in_winter_or_summer = month in [1, 2, 12, 6, 7, 8]\n",
        "print(\"* родился летом или зимой:\", born_in_winter_or_summer)\n",
        "\n",
        "hobbies_count = len(info['хобби'])\n",
        "print(\"* у меня {} хобби, первое \\\"{}\\\"\".format(\n",
        "    hobbies_count,\n",
        "    info['хобби'][0]\n",
        "))\n",
        "\n",
        "print(\"* после окончания школы сдавал {} экз.\".format(\n",
        "    len(info['ЕГЭ'])\n",
        "))\n",
        "\n",
        "sum_mark = sum(list(info['ЕГЭ'].values()))\n",
        "print(\"* сумма баллов = {}\".format(sum_mark))\n",
        "\n",
        "max_mark = max(info['ЕГЭ'].values())\n",
        "print(\"* макс. балл = {}\".format(max_mark))\n",
        "\n",
        "vuz_count = vuz_count = int(list(info['вузы'].values())[0] <= sum_mark) + int(list(info['вузы'].values())[1] <= sum_mark) + int(list(info['вузы'].values())[2] <= sum_mark)\n",
        "\n",
        "print(\"* кол-во вузов в которые прохожу: {}\".format(vuz_count))"
      ],
      "metadata": {
        "colab": {
          "base_uri": "https://localhost:8080/"
        },
        "id": "QP9uxLUEJlhT",
        "outputId": "59c129b7-6c98-4784-f226-664c4a560d31"
      },
      "execution_count": null,
      "outputs": [
        {
          "output_type": "stream",
          "name": "stdout",
          "text": [
            "Данные:\n",
            "{'фио': 'Модин Артём Олегович', 'дата_рождения': '20.09.2002', 'место_рождения': 'Москва', 'хобби': ['чтение', 'гейминг', 'программирование'], 'животные': ('Мурзик',), 'ЕГЭ': {'Русский': 98, 'Английский': 80, 'История': 77}, 'вузы': {'РГГУ': 270, 'МГИМО': 300, 'ВШЭ': 300}}\n",
            "Предметы: Английский, История, Русский\n",
            "\n",
            "Ответы на вопросы:\n",
            "* мое имя начинается на гласную букву: True\n",
            "* родился летом или зимой: False\n",
            "* у меня 3 хобби, первое \"чтение\"\n",
            "* после окончания школы сдавал 3 экз.\n",
            "* сумма баллов = 255\n",
            "* макс. балл = 98\n",
            "* кол-во вузов в которые прохожу: 0\n"
          ]
        }
      ]
    },
    {
      "cell_type": "code",
      "source": [
        "month"
      ],
      "metadata": {
        "colab": {
          "base_uri": "https://localhost:8080/",
          "height": 35
        },
        "id": "phVWxiHmSTv3",
        "outputId": "3762c9b2-e228-489c-922c-63bd07ef74d7"
      },
      "execution_count": null,
      "outputs": [
        {
          "output_type": "execute_result",
          "data": {
            "text/plain": [
              "'9'"
            ],
            "application/vnd.google.colaboratory.intrinsic+json": {
              "type": "string"
            }
          },
          "metadata": {},
          "execution_count": 77
        }
      ]
    },
    {
      "cell_type": "code",
      "source": [],
      "metadata": {
        "colab": {
          "base_uri": "https://localhost:8080/"
        },
        "id": "UDSLe2I4SURK",
        "outputId": "513fef49-4f51-4bf7-d12b-bc72df65e800"
      },
      "execution_count": null,
      "outputs": [
        {
          "output_type": "execute_result",
          "data": {
            "text/plain": [
              "0"
            ]
          },
          "metadata": {},
          "execution_count": 92
        }
      ]
    },
    {
      "cell_type": "code",
      "source": [],
      "metadata": {
        "id": "VLBvaDQ4VFvu"
      },
      "execution_count": null,
      "outputs": []
    }
  ]
}