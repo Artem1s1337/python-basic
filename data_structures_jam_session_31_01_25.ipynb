{
  "nbformat": 4,
  "nbformat_minor": 0,
  "metadata": {
    "colab": {
      "provenance": []
    },
    "kernelspec": {
      "name": "python3",
      "display_name": "Python 3"
    },
    "language_info": {
      "name": "python"
    }
  },
  "cells": [
    {
      "cell_type": "code",
      "execution_count": null,
      "metadata": {
        "colab": {
          "base_uri": "https://localhost:8080/"
        },
        "id": "fYrdT25ZoruV",
        "outputId": "54542dab-4fc2-44f3-fa8c-d97d1c0a43f9"
      },
      "outputs": [
        {
          "output_type": "stream",
          "name": "stdout",
          "text": [
            "832\n",
            "8 3 2\n"
          ]
        }
      ],
      "source": [
        "cabinet_id = int(input())\n",
        "group_id = cabinet_id // 100\n",
        "bed_id = cabinet_id // 10 % 10\n",
        "child_id = cabinet_id % 10\n",
        "\n",
        "print(\n",
        "    group_id,\n",
        "    bed_id,\n",
        "    child_id\n",
        ")"
      ]
    },
    {
      "cell_type": "code",
      "source": [
        "num = int(input())\n",
        "\n",
        "a = str(num // 1000)\n",
        "b = str(num // 100 % 10)\n",
        "c = str(num // 10 % 10)\n",
        "d = str(num % 10)\n",
        "\n",
        "print(\n",
        "    a,\n",
        "    b,\n",
        "    c,\n",
        "    d\n",
        ")"
      ],
      "metadata": {
        "colab": {
          "base_uri": "https://localhost:8080/"
        },
        "id": "1C_CSNHro4IY",
        "outputId": "bb91ecbd-2301-448f-a147-3d826d7b4f02"
      },
      "execution_count": null,
      "outputs": [
        {
          "output_type": "stream",
          "name": "stdout",
          "text": [
            "2130\n",
            "2 1 3 0\n"
          ]
        }
      ]
    },
    {
      "cell_type": "code",
      "source": [
        "abcd = a + b + c + d\n",
        "abcd"
      ],
      "metadata": {
        "colab": {
          "base_uri": "https://localhost:8080/",
          "height": 35
        },
        "id": "Jwvrwv31sAHQ",
        "outputId": "aedea08d-7a6d-4f07-a754-8366b1c78c44"
      },
      "execution_count": null,
      "outputs": [
        {
          "output_type": "execute_result",
          "data": {
            "text/plain": [
              "'2130'"
            ],
            "application/vnd.google.colaboratory.intrinsic+json": {
              "type": "string"
            }
          },
          "metadata": {},
          "execution_count": 27
        }
      ]
    },
    {
      "cell_type": "code",
      "source": [
        "badc = b + a + d + c\n",
        "badc"
      ],
      "metadata": {
        "colab": {
          "base_uri": "https://localhost:8080/",
          "height": 35
        },
        "id": "-B18C5N5tORY",
        "outputId": "c4233363-31ab-4a6c-a8aa-78d8966f7cbd"
      },
      "execution_count": null,
      "outputs": [
        {
          "output_type": "execute_result",
          "data": {
            "text/plain": [
              "'1203'"
            ],
            "application/vnd.google.colaboratory.intrinsic+json": {
              "type": "string"
            }
          },
          "metadata": {},
          "execution_count": 28
        }
      ]
    },
    {
      "cell_type": "code",
      "source": [
        "a = 1\n",
        "a % 10"
      ],
      "metadata": {
        "colab": {
          "base_uri": "https://localhost:8080/"
        },
        "id": "2XrztIDvtQ4d",
        "outputId": "e844a459-682d-4ff5-cbef-95415eb3ef74"
      },
      "execution_count": null,
      "outputs": [
        {
          "output_type": "execute_result",
          "data": {
            "text/plain": [
              "1"
            ]
          },
          "metadata": {},
          "execution_count": 29
        }
      ]
    },
    {
      "cell_type": "code",
      "source": [
        "num_1 = int(input())\n",
        "num_2 = int(input())\n",
        "\n",
        "first = str(((num_1 // 100) + (num_2 // 100)) % 10)\n",
        "second = str(((num_1 // 10 % 10) + (num_2 // 10 % 10)) % 10)\n",
        "third = str(((num_1 % 10) + (num_2 % 10)) % 10)"
      ],
      "metadata": {
        "colab": {
          "base_uri": "https://localhost:8080/"
        },
        "id": "8QW3G1VXxGbq",
        "outputId": "caf00414-502b-47fc-a588-dedeeb397f05"
      },
      "execution_count": null,
      "outputs": [
        {
          "name": "stdout",
          "output_type": "stream",
          "text": [
            "123\n",
            "99\n"
          ]
        }
      ]
    },
    {
      "cell_type": "code",
      "source": [
        "second"
      ],
      "metadata": {
        "colab": {
          "base_uri": "https://localhost:8080/",
          "height": 35
        },
        "id": "p5Y16mXUyCfl",
        "outputId": "11b82a63-7f21-4cc5-e010-d122a660daa9"
      },
      "execution_count": null,
      "outputs": [
        {
          "output_type": "execute_result",
          "data": {
            "text/plain": [
              "'10'"
            ],
            "application/vnd.google.colaboratory.intrinsic+json": {
              "type": "string"
            }
          },
          "metadata": {},
          "execution_count": 11
        }
      ]
    },
    {
      "cell_type": "code",
      "source": [
        "print(int(first + second + third))"
      ],
      "metadata": {
        "colab": {
          "base_uri": "https://localhost:8080/"
        },
        "id": "dYNrmeDrx1pG",
        "outputId": "669faef5-c76a-4fdc-80be-05033fd31ca9"
      },
      "execution_count": null,
      "outputs": [
        {
          "output_type": "stream",
          "name": "stdout",
          "text": [
            "112\n"
          ]
        }
      ]
    },
    {
      "cell_type": "code",
      "source": [
        "99 // 100 % 10"
      ],
      "metadata": {
        "colab": {
          "base_uri": "https://localhost:8080/"
        },
        "id": "x1iWAMhbzX-o",
        "outputId": "3631c985-17b1-474c-c32e-258b6b75589c"
      },
      "execution_count": null,
      "outputs": [
        {
          "output_type": "execute_result",
          "data": {
            "text/plain": [
              "0"
            ]
          },
          "metadata": {},
          "execution_count": 7
        }
      ]
    },
    {
      "cell_type": "code",
      "source": [
        "99 // 10 % 10"
      ],
      "metadata": {
        "colab": {
          "base_uri": "https://localhost:8080/"
        },
        "id": "2Mhqv26UzbpS",
        "outputId": "9617d2a5-c276-475a-96cf-f1264b4b1216"
      },
      "execution_count": null,
      "outputs": [
        {
          "output_type": "execute_result",
          "data": {
            "text/plain": [
              "9"
            ]
          },
          "metadata": {},
          "execution_count": 8
        }
      ]
    },
    {
      "cell_type": "code",
      "source": [
        "# Ещё про типы данных"
      ],
      "metadata": {
        "id": "XmIp_knVzsEQ"
      },
      "execution_count": null,
      "outputs": []
    },
    {
      "cell_type": "code",
      "source": [
        "# Общие операции, независимо от типа\n",
        "\n",
        "a = [1, 2, 3]\n",
        "id(a)  # ссылка на область памяти\n",
        "b = a\n",
        "c = [4, 5, 6]"
      ],
      "metadata": {
        "id": "5SZkN5mh-vrc"
      },
      "execution_count": null,
      "outputs": []
    },
    {
      "cell_type": "code",
      "source": [
        "# Указание на один и тот же объект\n",
        "\n",
        "a is b  # ссылка на ссылку"
      ],
      "metadata": {
        "colab": {
          "base_uri": "https://localhost:8080/"
        },
        "id": "AzcEaMtd-4J-",
        "outputId": "1e7a0550-e672-4f12-836f-84821a846d7d"
      },
      "execution_count": null,
      "outputs": [
        {
          "output_type": "execute_result",
          "data": {
            "text/plain": [
              "True"
            ]
          },
          "metadata": {},
          "execution_count": 25
        }
      ]
    },
    {
      "cell_type": "code",
      "source": [
        "a is c  # ссылки на два разных объекта"
      ],
      "metadata": {
        "colab": {
          "base_uri": "https://localhost:8080/"
        },
        "id": "ZGI6yftJ_ESO",
        "outputId": "23e18c9b-88d4-485e-8a2b-9c92a1b096f0"
      },
      "execution_count": null,
      "outputs": [
        {
          "output_type": "execute_result",
          "data": {
            "text/plain": [
              "False"
            ]
          },
          "metadata": {},
          "execution_count": 26
        }
      ]
    },
    {
      "cell_type": "code",
      "source": [
        "type(a)"
      ],
      "metadata": {
        "colab": {
          "base_uri": "https://localhost:8080/"
        },
        "id": "R8kTHFjD_L63",
        "outputId": "2a769a02-56c4-4d89-9dd4-e3caebd3793b"
      },
      "execution_count": null,
      "outputs": [
        {
          "output_type": "execute_result",
          "data": {
            "text/plain": [
              "list"
            ]
          },
          "metadata": {},
          "execution_count": 27
        }
      ]
    },
    {
      "cell_type": "code",
      "source": [
        "isinstance(a, int)  # проверка на принадлежность к классу"
      ],
      "metadata": {
        "colab": {
          "base_uri": "https://localhost:8080/"
        },
        "id": "XSqdI43r_RW_",
        "outputId": "c0ffee2d-568d-4e4c-a25e-003c7151d343"
      },
      "execution_count": null,
      "outputs": [
        {
          "output_type": "execute_result",
          "data": {
            "text/plain": [
              "False"
            ]
          },
          "metadata": {},
          "execution_count": 31
        }
      ]
    },
    {
      "cell_type": "code",
      "source": [
        "isinstance(a, list) # <-- более предпочтительно, чем type()"
      ],
      "metadata": {
        "colab": {
          "base_uri": "https://localhost:8080/"
        },
        "id": "sRzCmO5R_XgS",
        "outputId": "b36333f7-a396-422b-a31e-0210abbf0728"
      },
      "execution_count": null,
      "outputs": [
        {
          "output_type": "execute_result",
          "data": {
            "text/plain": [
              "True"
            ]
          },
          "metadata": {},
          "execution_count": 32
        }
      ]
    },
    {
      "cell_type": "code",
      "source": [
        "# Взаимное преобразование\n",
        "\n",
        "a = str(5)\n",
        "b = str(6.)\n",
        "c = str(True)\n",
        "d = str(None)\n",
        "e = str([1, 2, 3])\n",
        "f = str((1, 2, 3))\n",
        "g = str(range(10))\n",
        "h = str(set([1, 2, 3]))\n",
        "i = str(dict(name=1, surname=2))"
      ],
      "metadata": {
        "id": "PMhp-ykO_ktR"
      },
      "execution_count": null,
      "outputs": []
    },
    {
      "cell_type": "code",
      "source": [
        "i"
      ],
      "metadata": {
        "colab": {
          "base_uri": "https://localhost:8080/",
          "height": 35
        },
        "id": "4VxFLQ2WBLPv",
        "outputId": "f771c43b-5070-494b-f54d-3d5bf7352ce1"
      },
      "execution_count": null,
      "outputs": [
        {
          "output_type": "execute_result",
          "data": {
            "text/plain": [
              "\"{'name': 1, 'surname': 2}\""
            ],
            "application/vnd.google.colaboratory.intrinsic+json": {
              "type": "string"
            }
          },
          "metadata": {},
          "execution_count": 43
        }
      ]
    },
    {
      "cell_type": "code",
      "source": [
        "dic = dict(one=1, two=2, three=3)\n",
        "list(dic.keys())"
      ],
      "metadata": {
        "colab": {
          "base_uri": "https://localhost:8080/"
        },
        "id": "EONBcdf_BMJ8",
        "outputId": "6ab3851b-5935-4b87-fa06-c2cce3c1d2b4"
      },
      "execution_count": null,
      "outputs": [
        {
          "output_type": "execute_result",
          "data": {
            "text/plain": [
              "['one', 'two', 'three']"
            ]
          },
          "metadata": {},
          "execution_count": 44
        }
      ]
    },
    {
      "cell_type": "code",
      "source": [
        "set(dic.values())"
      ],
      "metadata": {
        "colab": {
          "base_uri": "https://localhost:8080/"
        },
        "id": "Exg0qml5B6MO",
        "outputId": "7383ea34-5382-4198-ab08-76d8993d62be"
      },
      "execution_count": null,
      "outputs": [
        {
          "output_type": "execute_result",
          "data": {
            "text/plain": [
              "{1, 2, 3}"
            ]
          },
          "metadata": {},
          "execution_count": 45
        }
      ]
    },
    {
      "cell_type": "code",
      "source": [
        "input()  # prompt по умолчанию в виде строки"
      ],
      "metadata": {
        "colab": {
          "base_uri": "https://localhost:8080/",
          "height": 53
        },
        "id": "RGNrf-_HB96G",
        "outputId": "6119bf9d-7b54-4873-c5aa-b81e5da7f172"
      },
      "execution_count": null,
      "outputs": [
        {
          "name": "stdout",
          "output_type": "stream",
          "text": [
            "Сегодня пятница!\n"
          ]
        },
        {
          "output_type": "execute_result",
          "data": {
            "text/plain": [
              "'Сегодня пятница!'"
            ],
            "application/vnd.google.colaboratory.intrinsic+json": {
              "type": "string"
            }
          },
          "metadata": {},
          "execution_count": 46
        }
      ]
    },
    {
      "cell_type": "code",
      "source": [
        "# аргументы print()\n",
        "a = 5\n",
        "b = 6\n",
        "\n",
        "print(\n",
        "    a, b, sep='!', end=''\n",
        ")"
      ],
      "metadata": {
        "colab": {
          "base_uri": "https://localhost:8080/"
        },
        "id": "U95xTTyBP6bb",
        "outputId": "297130a9-46f5-4df9-d431-4f2c8b99a05d"
      },
      "execution_count": null,
      "outputs": [
        {
          "output_type": "stream",
          "name": "stdout",
          "text": [
            "5!6"
          ]
        }
      ]
    },
    {
      "cell_type": "code",
      "source": [],
      "metadata": {
        "id": "XVfIo54yQQch"
      },
      "execution_count": null,
      "outputs": []
    }
  ]
}